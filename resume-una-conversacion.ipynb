{
 "cells": [
  {
   "cell_type": "code",
   "execution_count": null,
   "metadata": {},
   "outputs": [],
   "source": [
    "import re\n",
    "import openai\n",
    "\n",
    "# Asegúrate de guardar tu clave de API en un lugar seguro y no la compartas públicamente.\n",
    "openai.api_key = 'TU-API'\n",
    "\n",
    "# Define la ruta al archivo.\n",
    "ruta_archivo = 'conversacion.txt'\n",
    "\n",
    "def read_file(path):\n",
    "    \"\"\"Lee el archivo dado y devuelve su contenido.\"\"\"\n",
    "    with open(path, 'r') as f:\n",
    "        return f.read()\n",
    "\n",
    "def summarize_text(text):\n",
    "    \"\"\"\n",
    "    Resumir el texto dado utilizando la API de OpenAI.\n",
    "    Asegúrate de que el texto cumple con los límites de la API.\n",
    "    \"\"\"\n",
    "    response = openai.Completion.create(\n",
    "        engine=\"text-davinci-003\",\n",
    "        prompt=\"Resumir la siguiente conversación en 10 puntos: \" + text,\n",
    "        max_tokens=500,\n",
    "        n=1,\n",
    "        stop=None,\n",
    "        temperature=0.7,\n",
    "        top_p=1,\n",
    "        frequency_penalty=0,\n",
    "        presence_penalty=0\n",
    "    )\n",
    "    message = response[\"choices\"][0][\"text\"]\n",
    "    return re.sub('[\\n]+', '\\n', message).strip()\n",
    "\n",
    "# Lee el contenido del archivo.\n",
    "text = read_file(ruta_archivo)\n",
    "\n",
    "# Resumir el contenido del archivo y mostrar el resumen.\n",
    "summary = summarize_text(text)\n",
    "print(\"Resumen del texto completo en 10 puntos:\\n\", summary)\n"
   ]
  }
 ],
 "metadata": {
  "kernelspec": {
   "display_name": "base",
   "language": "python",
   "name": "python3"
  },
  "language_info": {
   "name": "python",
   "version": "3.10.9"
  },
  "orig_nbformat": 4
 },
 "nbformat": 4,
 "nbformat_minor": 2
}
